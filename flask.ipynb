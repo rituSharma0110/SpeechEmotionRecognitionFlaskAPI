{
 "cells": [
  {
   "cell_type": "code",
   "execution_count": 1,
   "metadata": {},
   "outputs": [
    {
     "ename": "ModuleNotFoundError",
     "evalue": "No module named 'tensorflow'",
     "output_type": "error",
     "traceback": [
      "\u001b[1;31m---------------------------------------------------------------------------\u001b[0m",
      "\u001b[1;31mModuleNotFoundError\u001b[0m                       Traceback (most recent call last)",
      "\u001b[1;32m~\\AppData\\Local\\Temp\\ipykernel_3428\\1748327839.py\u001b[0m in \u001b[0;36m<module>\u001b[1;34m\u001b[0m\n\u001b[0;32m      1\u001b[0m \u001b[1;32mfrom\u001b[0m \u001b[0mflask\u001b[0m \u001b[1;32mimport\u001b[0m \u001b[0mFlask\u001b[0m\u001b[1;33m,\u001b[0m \u001b[0mrequest\u001b[0m\u001b[1;33m,\u001b[0m \u001b[0mjsonify\u001b[0m\u001b[1;33m,\u001b[0m \u001b[0mrender_template\u001b[0m\u001b[1;33m\u001b[0m\u001b[1;33m\u001b[0m\u001b[0m\n\u001b[0;32m      2\u001b[0m \u001b[1;32mimport\u001b[0m \u001b[0mrandom\u001b[0m\u001b[1;33m\u001b[0m\u001b[1;33m\u001b[0m\u001b[0m\n\u001b[1;32m----> 3\u001b[1;33m \u001b[1;32mimport\u001b[0m \u001b[0mtensorflow\u001b[0m\u001b[1;33m\u001b[0m\u001b[1;33m\u001b[0m\u001b[0m\n\u001b[0m\u001b[0;32m      4\u001b[0m \u001b[1;32mfrom\u001b[0m \u001b[0mtensorflow\u001b[0m\u001b[1;33m.\u001b[0m\u001b[0mkeras\u001b[0m\u001b[1;33m.\u001b[0m\u001b[0mmodels\u001b[0m \u001b[1;32mimport\u001b[0m \u001b[0mload_model\u001b[0m\u001b[1;33m\u001b[0m\u001b[1;33m\u001b[0m\u001b[0m\n\u001b[0;32m      5\u001b[0m \u001b[1;32mimport\u001b[0m \u001b[0mnumpy\u001b[0m \u001b[1;32mas\u001b[0m \u001b[0mnp\u001b[0m\u001b[1;33m\u001b[0m\u001b[1;33m\u001b[0m\u001b[0m\n",
      "\u001b[1;31mModuleNotFoundError\u001b[0m: No module named 'tensorflow'"
     ]
    }
   ],
   "source": [
    "from flask import Flask, request, jsonify, render_template\n",
    "import random\n",
    "import tensorflow\n",
    "from tensorflow.keras.models import load_model\n",
    "import numpy as np\n",
    "import librosa\n",
    "import pandas as pd\n",
    "from sklearn.preprocessing import OneHotEncoder\n",
    "import os"
   ]
  },
  {
   "cell_type": "code",
   "execution_count": null,
   "metadata": {},
   "outputs": [
    {
     "ename": "",
     "evalue": "",
     "output_type": "error",
     "traceback": [
      "\u001b[1;31mRunning cells with 'Python 3.7.6 64-bit' requires ipykernel package.\n",
      "\u001b[1;31mRun the following command to install 'ipykernel' into the Python environment. \n",
      "\u001b[1;31mCommand: '\"c:/Users/This pc/AppData/Local/Programs/Python/Python37/python.exe\" -m pip install ipykernel -U --user --force-reinstall'"
     ]
    }
   ],
   "source": [
    "app = Flask(__name__, template_folder='template', static_folder='static')\n",
    "model=load_model(r'C:\\Users\\user\\Documents\\Projects_Docs\\SER_Emergency\\Emotion_Emergency.h5')"
   ]
  },
  {
   "cell_type": "code",
   "execution_count": null,
   "metadata": {},
   "outputs": [
    {
     "ename": "",
     "evalue": "",
     "output_type": "error",
     "traceback": [
      "\u001b[1;31mRunning cells with 'Python 3.7.6 64-bit' requires ipykernel package.\n",
      "\u001b[1;31mRun the following command to install 'ipykernel' into the Python environment. \n",
      "\u001b[1;31mCommand: '\"c:/Users/This pc/AppData/Local/Programs/Python/Python37/python.exe\" -m pip install ipykernel -U --user --force-reinstall'"
     ]
    }
   ],
   "source": [
    "@app.route('/')\n",
    "def home():\n",
    "    return render_template('index.html')"
   ]
  },
  {
   "cell_type": "code",
   "execution_count": null,
   "metadata": {},
   "outputs": [
    {
     "ename": "",
     "evalue": "",
     "output_type": "error",
     "traceback": [
      "\u001b[1;31mRunning cells with 'Python 3.7.6 64-bit' requires ipykernel package.\n",
      "\u001b[1;31mRun the following command to install 'ipykernel' into the Python environment. \n",
      "\u001b[1;31mCommand: '\"c:/Users/This pc/AppData/Local/Programs/Python/Python37/python.exe\" -m pip install ipykernel -U --user --force-reinstall'"
     ]
    }
   ],
   "source": [
    "@app.route('/predict_',methods=['POST'])\n",
    "def predict_():\n",
    "\n",
    "    # get file from POST request and save it\n",
    "    audio_file = request.files\n",
    "    file = audio_file.get('file')\n",
    "    print(file)\n",
    "\n",
    "    with open(os.path.abspath(f'backend/audios/{file}'), 'wb') as f:\n",
    "        f.write(file.content)\n",
    "\n",
    "    response = jsonify(\"File received and saved!\")\n",
    "    response.headers.add('Access-Control-Allow-Origin', '*')\n",
    "\n",
    "    # return response\n",
    "    # audio_file = request.files[\"file\"]\n",
    "    file_name = str(random.randint(0, 100000))\n",
    "    audio_file.save(file_name)\n",
    "\n",
    "    # Features = pd.read_csv(r'C:\\Users\\user\\Documents\\Projects_Docs\\SER_Emergency\\features_Emergency.csv')\n",
    "    # Y = Features['labels'].values\n",
    "    # encoder = OneHotEncoder()\n",
    "    # Y = encoder.fit_transform(np.array(Y).reshape(-1,1)).toarray()\n",
    "    \n",
    "    # NOISE\n",
    "    def noise(data):\n",
    "        noise_amp = 0.035*np.random.uniform()*np.amax(data)\n",
    "        data = data + noise_amp*np.random.normal(size=data.shape[0])\n",
    "        return data\n",
    "    # # STRETCH\n",
    "    # def stretch(data, rate=0.8):\n",
    "    #     return librosa.effects.time_stretch(data, rate)\n",
    "    # # PITCH\n",
    "    # def pitch(data, sampling_rate, pitch_factor=0.7):\n",
    "    #     return librosa.effects.pitch_shift(data, sampling_rate, pitch_factor)\n",
    "\n",
    "    def feat_ext(data):\n",
    "        mfcc = np.mean(librosa.feature.mfcc(y=data, sr=22050).T, axis=0)\n",
    "        return mfcc\n",
    "\n",
    "    def get_feat(path):\n",
    "        data, sample_rate = librosa.load(path, duration=5, offset=0.6)\n",
    "        # normal data\n",
    "        res1 = feat_ext(data)\n",
    "        result = np.array(res1)\n",
    "        #data with noise\n",
    "        noise_data = noise(data)\n",
    "        res2 = feat_ext(noise_data)\n",
    "        result = np.vstack((result, res2))\n",
    "        return result\n",
    "\n",
    "    feature = get_feat(file_name)\n",
    "    test =np.expand_dims(feature, axis=2)\n",
    "    livepreds = model.predict(test)\n",
    "    livepredictions = (encoder.inverse_transform((livepreds)))\n",
    "\n",
    "\n",
    "    return render_template('index.html', prediction_text='OUTPUT IS {}'.format(livepredictions[0],audio_file))\n"
   ]
  },
  {
   "cell_type": "code",
   "execution_count": null,
   "metadata": {},
   "outputs": [
    {
     "ename": "",
     "evalue": "",
     "output_type": "error",
     "traceback": [
      "\u001b[1;31mRunning cells with 'Python 3.7.6 64-bit' requires ipykernel package.\n",
      "\u001b[1;31mRun the following command to install 'ipykernel' into the Python environment. \n",
      "\u001b[1;31mCommand: '\"c:/Users/This pc/AppData/Local/Programs/Python/Python37/python.exe\" -m pip install ipykernel -U --user --force-reinstall'"
     ]
    }
   ],
   "source": [
    "# @app.route('/results',methods=['POST'])\n",
    "# def results():\n",
    "#     data = request.get_json(force=True)\n",
    "#     prediction = model.predict(data.values())\n",
    "    \n",
    "#     return jsonify(prediction)"
   ]
  },
  {
   "cell_type": "code",
   "execution_count": null,
   "metadata": {},
   "outputs": [
    {
     "ename": "",
     "evalue": "",
     "output_type": "error",
     "traceback": [
      "\u001b[1;31mRunning cells with 'Python 3.7.6 64-bit' requires ipykernel package.\n",
      "\u001b[1;31mRun the following command to install 'ipykernel' into the Python environment. \n",
      "\u001b[1;31mCommand: '\"c:/Users/This pc/AppData/Local/Programs/Python/Python37/python.exe\" -m pip install ipykernel -U --user --force-reinstall'"
     ]
    }
   ],
   "source": [
    "if __name__ == \"__main__\":\n",
    "    app.run(debug=True,use_reloader=False)"
   ]
  }
 ],
 "metadata": {
  "kernelspec": {
   "display_name": "Python 3.7.6 64-bit",
   "language": "python",
   "name": "python3"
  },
  "language_info": {
   "codemirror_mode": {
    "name": "ipython",
    "version": 3
   },
   "file_extension": ".py",
   "mimetype": "text/x-python",
   "name": "python",
   "nbconvert_exporter": "python",
   "pygments_lexer": "ipython3",
   "version": "3.7.6"
  },
  "metadata": {
   "interpreter": {
    "hash": "75d5fa5647ed718dff6db6e19cb5826cae172c65e0d9788c078b693ea2246e0d"
   }
  },
  "orig_nbformat": 2,
  "vscode": {
   "interpreter": {
    "hash": "ea356e0d8d799be3f285b3039f681c3f886a7c0b48318e7876f771cae4aec359"
   }
  }
 },
 "nbformat": 4,
 "nbformat_minor": 2
}
